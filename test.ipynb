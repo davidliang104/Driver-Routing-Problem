{
 "cells": [
  {
   "cell_type": "code",
   "execution_count": 60,
   "metadata": {},
   "outputs": [],
   "source": [
    "import numpy as np"
   ]
  },
  {
   "cell_type": "code",
   "execution_count": 61,
   "metadata": {},
   "outputs": [],
   "source": [
    "data = {}\n",
    "data[\"distance_matrix\"] = [\n",
    "    # fmt: off\n",
    "    [0, 10, 10, 10],\n",
    "    [10, 0, 10, 10],\n",
    "    [10, 10, 0, 10],\n",
    "    [10, 10, 10, 0],\n",
    "    # fmt: on\n",
    "]\n",
    "data[\"pickups_deliveries\"] = [\n",
    "    [1, 3],\n",
    "    [2, 3],\n",
    "]\n",
    "data[\"num_vehicles\"] = 2\n",
    "data[\"vehicle_capacities\"] = [2, 2]\n",
    "data[\"demands\"] = [0, 1, 1, -5]\n",
    "data[\"depot\"] = 0"
   ]
  },
  {
   "cell_type": "code",
   "execution_count": 62,
   "metadata": {},
   "outputs": [],
   "source": [
    "# distance_matrix = data[\"distance_matrix\"]\n",
    "# pickups_deliveries = data[\"pickups_deliveries\"]\n",
    "# demands = data[\"demands\"]"
   ]
  },
  {
   "cell_type": "code",
   "execution_count": 63,
   "metadata": {},
   "outputs": [],
   "source": [
    "def duplicate_nodes(distance_matrix, pickups_deliveries, demands):\n",
    "    duplicates = set()\n",
    "    duplicate_found = False\n",
    "    dummies = []\n",
    "    for i in range(len(pickups_deliveries)):\n",
    "        pickup, delivery = pickups_deliveries[i][0], pickups_deliveries[i][1]\n",
    "        if delivery not in duplicates:\n",
    "            duplicates.add(delivery)\n",
    "        else:\n",
    "            duplicate_found = True\n",
    "            # duplicate distances of location\n",
    "            dummies.append(distance_matrix[delivery])\n",
    "            # change index of delivery site to dummy's index\n",
    "            pickups_deliveries[i][1] = len(distance_matrix) + len(dummies) - 1\n",
    "            demands.append(demands[delivery])\n",
    "\n",
    "    if duplicate_found:\n",
    "        distance_array = np.array(distance_matrix)\n",
    "        dummies_rows = np.array(dummies)\n",
    "        dummies_cols = dummies_rows.T\n",
    "        distance_array_merged = np.zeros((distance_array.shape[0]+dummies_rows.shape[0], distance_array.shape[1]+dummies_cols.shape[1]))\n",
    "        distance_array_merged[:distance_array.shape[0], :distance_array.shape[1]] = distance_array\n",
    "        distance_array_merged[distance_array.shape[0]:, :dummies_rows.shape[1]] = dummies_rows\n",
    "        distance_array_merged[:dummies_cols.shape[0], distance_array.shape[1]:] = dummies_cols\n",
    "\n",
    "        distance_matrix = distance_array_merged.tolist()\n",
    "\n",
    "    return distance_matrix, pickups_deliveries, demands"
   ]
  },
  {
   "cell_type": "code",
   "execution_count": 64,
   "metadata": {},
   "outputs": [],
   "source": [
    "distance_matrix, pickups_deliveries, demands = duplicate_nodes(data[\"distance_matrix\"], data[\"pickups_deliveries\"], data[\"demands\"])"
   ]
  },
  {
   "cell_type": "code",
   "execution_count": 65,
   "metadata": {},
   "outputs": [
    {
     "data": {
      "text/plain": [
       "[0, 1, 1, -5, -5]"
      ]
     },
     "execution_count": 65,
     "metadata": {},
     "output_type": "execute_result"
    }
   ],
   "source": [
    "demands"
   ]
  }
 ],
 "metadata": {
  "kernelspec": {
   "display_name": ".venv",
   "language": "python",
   "name": "python3"
  },
  "language_info": {
   "codemirror_mode": {
    "name": "ipython",
    "version": 3
   },
   "file_extension": ".py",
   "mimetype": "text/x-python",
   "name": "python",
   "nbconvert_exporter": "python",
   "pygments_lexer": "ipython3",
   "version": "3.10.7"
  }
 },
 "nbformat": 4,
 "nbformat_minor": 2
}
